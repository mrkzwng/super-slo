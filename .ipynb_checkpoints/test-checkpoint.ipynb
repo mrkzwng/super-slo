{
 "cells": [
  {
   "cell_type": "code",
   "execution_count": 1,
   "metadata": {},
   "outputs": [],
   "source": [
    "from slomo_model import SloMo_model\n",
    "import tensorflow as tf\n",
    "import numpy as np"
   ]
  },
  {
   "cell_type": "code",
   "execution_count": null,
   "metadata": {},
   "outputs": [],
   "source": [
    "comp = SloMo_model(for_interpolation=False, is_train=False)\n",
    "inter = SloMo_model(for_interpolation=True, is_train=False)\n",
    "a = np.random.uniform(size=[32, 32]).reshape([1, 32, 32, 1])\\\n",
    "            .astype(np.float32)\n",
    "a.shape"
   ]
  },
  {
   "cell_type": "code",
   "execution_count": null,
   "metadata": {
    "scrolled": false
   },
   "outputs": [],
   "source": [
    "flow_01, flow10 = comp.inference(a)\n",
    "flow_t0, flow_t1, vis_mask_0, vis_mask_1 = inter.inference(a)"
   ]
  },
  {
   "cell_type": "code",
   "execution_count": null,
   "metadata": {},
   "outputs": [],
   "source": [
    "summaries = tf.get_collection(tf.GraphKeys.SUMMARIES)"
   ]
  },
  {
   "cell_type": "code",
   "execution_count": null,
   "metadata": {},
   "outputs": [],
   "source": [
    "sess = tf.Session()\n",
    "summary_writer = tf.summary.FileWriter(\n",
    "      './',\n",
    "      graph=sess.graph)"
   ]
  },
  {
   "cell_type": "code",
   "execution_count": null,
   "metadata": {
    "scrolled": true
   },
   "outputs": [],
   "source": [
    "sess.run([tf.global_variables_initializer()])\n",
    "sess.run([flow_01, flow_10,\n",
    "    flow_t0, flow_t1, vis_mask_0, vis_mask_1])"
   ]
  },
  {
   "cell_type": "code",
   "execution_count": null,
   "metadata": {},
   "outputs": [],
   "source": []
  }
 ],
 "metadata": {
  "kernelspec": {
   "display_name": "Python 2",
   "language": "python",
   "name": "python2"
  },
  "language_info": {
   "codemirror_mode": {
    "name": "ipython",
    "version": 2
   },
   "file_extension": ".py",
   "mimetype": "text/x-python",
   "name": "python",
   "nbconvert_exporter": "python",
   "pygments_lexer": "ipython2",
   "version": "2.7.12"
  }
 },
 "nbformat": 4,
 "nbformat_minor": 2
}
