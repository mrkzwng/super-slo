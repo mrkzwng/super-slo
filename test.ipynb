{
 "cells": [
  {
   "cell_type": "code",
   "execution_count": 114,
   "metadata": {},
   "outputs": [],
   "source": [
    "import cv2\n",
    "import zipfile\n",
    "import re\n",
    "import os\n",
    "from os.path import split\n",
    "from pathlib import Path"
   ]
  },
  {
   "cell_type": "code",
   "execution_count": 103,
   "metadata": {},
   "outputs": [],
   "source": [
    "zipdir = '../data/DeepVideoDeblurring_Dataset.zip'\n",
    "destdir = '../data/triplets/'\n",
    "listdir = './data_list/'\n",
    "get_jpg_name = lambda path: split(split(split(path)[0])[0])[1] \\\n",
    "                    + '_' + os.path.basename(path)\n",
    "\n",
    "with zipfile.ZipFile(zipdir, 'r') as z:\n",
    "    names = z.namelist()\n",
    "    names = [name for name in names \n",
    "             if re.search('^[^_MACOSX].*(input|GT).*\\.jpg', name)]\n",
    "    jpg_names = [get_jpg_name(name) for name in names]\n",
    "    new_paths = [os.path.join(destdir, jpg_name)\n",
    "                 for jpg_name in jpg_names]\n",
    "    for jpg_name, zip_path, new_path \\\n",
    "      in zip(jpg_names, names, new_paths):\n",
    "        with open(new_path, 'wb') as f:\n",
    "            f.write(z.read(zip_path))\n",
    "            \n"
   ]
  },
  {
   "cell_type": "code",
   "execution_count": 115,
   "metadata": {},
   "outputs": [],
   "source": [
    "zipdir = '../data/DeepVideoDeblurring_Dataset.zip'\n",
    "destdir = '../data/triplets/'\n",
    "listdir = './data_list/'\n",
    "get_jpg_name = lambda path: split(split(split(path)[0])[0])[1] \\\n",
    "                    + '_' + os.path.basename(path)\n",
    "    \n",
    "\n",
    "with zipfile.ZipFile(zipdir, 'r') as z:\n",
    "    names = z.namelist()\n",
    "    names = [name for name in names \n",
    "             if re.search('^[^_MACOSX].*(input|GT).*\\.jpg', name)]\n",
    "    jpg_names = [get_jpg_name(name) for name in names]\n",
    "    new_paths = [os.path.join(destdir, jpg_name)\n",
    "                 for jpg_name in jpg_names]"
   ]
  },
  {
   "cell_type": "code",
   "execution_count": 120,
   "metadata": {},
   "outputs": [],
   "source": [
    "get_parent_name = lambda path: split(split(split(path)[0])[0])[1]"
   ]
  },
  {
   "cell_type": "code",
   "execution_count": 125,
   "metadata": {},
   "outputs": [],
   "source": [
    "parent_names = set([get_parent_name(name) for name in names])"
   ]
  },
  {
   "cell_type": "code",
   "execution_count": 136,
   "metadata": {
    "scrolled": true
   },
   "outputs": [],
   "source": [
    "for par_name in sorted(parent_names):\n",
    "    vid_frames = [path + '\\n' for path in new_paths\n",
    "                  if par_name in path]\n",
    "    for frame_idx in range(1, 10):\n",
    "        fr_path = os.path.join(listdir+'frame'+str(frame_idx)+'.txt')\n",
    "        if not os.path.isfile(fr_path):\n",
    "            with open(fr_path, 'w') as f:\n",
    "                f.writelines(\n",
    "                    vid_frames[frame_idx-1:len(vid_frames)-(9-frame_idx)])\n",
    "        else:\n",
    "            with open(fr_path, 'a') as f:\n",
    "                f.writelines(\n",
    "                    vid_frames[frame_idx-1:len(vid_frames)-(9-frame_idx)])"
   ]
  },
  {
   "cell_type": "code",
   "execution_count": 135,
   "metadata": {},
   "outputs": [
    {
     "data": {
      "text/plain": [
       "'./data_list/9.txt'"
      ]
     },
     "execution_count": 135,
     "metadata": {},
     "output_type": "execute_result"
    }
   ],
   "source": [
    "fr_path"
   ]
  },
  {
   "cell_type": "code",
   "execution_count": 130,
   "metadata": {},
   "outputs": [
    {
     "data": {
      "text/plain": [
       "[1, 2, 3, 4, 5, 6, 7, 8, 9]"
      ]
     },
     "execution_count": 130,
     "metadata": {},
     "output_type": "execute_result"
    }
   ],
   "source": []
  },
  {
   "cell_type": "code",
   "execution_count": null,
   "metadata": {},
   "outputs": [],
   "source": []
  }
 ],
 "metadata": {
  "kernelspec": {
   "display_name": "Python 2",
   "language": "python",
   "name": "python2"
  },
  "language_info": {
   "codemirror_mode": {
    "name": "ipython",
    "version": 2
   },
   "file_extension": ".py",
   "mimetype": "text/x-python",
   "name": "python",
   "nbconvert_exporter": "python",
   "pygments_lexer": "ipython2",
   "version": "2.7.12"
  }
 },
 "nbformat": 4,
 "nbformat_minor": 2
}
